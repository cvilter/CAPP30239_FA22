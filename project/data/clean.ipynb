{
 "cells": [
  {
   "cell_type": "markdown",
   "metadata": {},
   "source": [
    "Carolyn Vilter <br>\n",
    "MSCAPP Data Viz <br>\n",
    "Final Project <br>\n",
    "Data Cleaning/Prep <br>"
   ]
  },
  {
   "cell_type": "code",
   "execution_count": 62,
   "metadata": {},
   "outputs": [],
   "source": [
    "# Setup\n",
    "import pandas as pd\n",
    "import numpy as np"
   ]
  },
  {
   "cell_type": "code",
   "execution_count": 63,
   "metadata": {},
   "outputs": [],
   "source": [
    "# Data\n",
    "main = pd.read_csv(\"raw/main_data.csv\")\n",
    "predicted = pd.read_csv(\"raw/predicted_values.csv\")\n",
    "qualitative = pd.read_csv(\"raw/qual_data_selected.csv\")\n",
    "qual_binary = pd.read_csv(\"raw/qual_data_binary.csv\")\n",
    "dates = pd.read_csv(\"raw/significant_dates.csv\")"
   ]
  },
  {
   "cell_type": "markdown",
   "metadata": {},
   "source": [
    "### Line Chart: FEV1 over time"
   ]
  },
  {
   "cell_type": "code",
   "execution_count": 64,
   "metadata": {},
   "outputs": [],
   "source": [
    "# Keep vars, drop NAs\n",
    "line_data = main[[\"date\", \"fev1_over_pred_100\"]]\n",
    "line_data = line_data[line_data[\"fev1_over_pred_100\"].notna()]\n",
    "# Export\n",
    "line_data.to_csv(\"clean/line_data.csv\")"
   ]
  },
  {
   "cell_type": "code",
   "execution_count": 65,
   "metadata": {},
   "outputs": [],
   "source": [
    "# Split out pre-treatment and treatment-to-plateau datasets for special subset charts\n",
    "line_data['date'] = line_data['date'].astype('datetime64[ns]')\n",
    "treatment_date = dates[dates[\"significance\"] == \"Began treatment\"][\"date\"].iloc[0] # pulled from sig date data\n",
    "plateau_start = \"7/19/2019\"\n",
    "# Make sub datasets\n",
    "line_pre_tre = line_data[(line_data[\"date\"] < treatment_date)]\n",
    "line_tre_plat = line_data[(line_data[\"date\"] >= treatment_date) & (line_data[\"date\"] <= plateau_start)]\n",
    "# Export\n",
    "line_pre_tre.to_csv(\"clean/line_pre_tre.csv\")\n",
    "line_tre_plat.to_csv(\"clean/line_tre_plat.csv\")"
   ]
  },
  {
   "cell_type": "markdown",
   "metadata": {},
   "source": [
    "### Bar Chart: Qual data recorded or not"
   ]
  },
  {
   "cell_type": "code",
   "execution_count": 66,
   "metadata": {},
   "outputs": [],
   "source": [
    "# Format date var and group by week\n",
    "qual_binary[\"date\"] = pd.to_datetime(qual_binary[\"date\"])\n",
    "qual_binary['week'] = qual_binary.date.dt.to_period('W')\n",
    "bar_data = qual_binary.groupby('week')['wrote_notes'].apply(lambda x: (x==1).sum()).reset_index(name='count_notes')\n",
    "# Name the index and start at 1 (sorry) as in \"week 1\"\n",
    "bar_data.index.name = 'week_num'\n",
    "bar_data.index += 1\n",
    "# Export\n",
    "bar_data.to_csv(\"clean/bar_data.csv\")"
   ]
  },
  {
   "cell_type": "markdown",
   "metadata": {},
   "source": [
    "### Scatter: FEV1 vs. PEF"
   ]
  },
  {
   "cell_type": "code",
   "execution_count": 67,
   "metadata": {},
   "outputs": [],
   "source": [
    "# Two vars, no NAs\n",
    "scatter_data = main[[\"pef_over_pred_100\", \"fev1_over_pred_100\"]]\n",
    "scatter_data = scatter_data.dropna(axis=0, how=\"any\")\n",
    "# Export\n",
    "scatter_data.to_csv(\"clean/scatter_data.csv\")"
   ]
  },
  {
   "cell_type": "markdown",
   "metadata": {},
   "source": [
    "### Histogram: PEF before and after treatment"
   ]
  },
  {
   "cell_type": "code",
   "execution_count": 68,
   "metadata": {},
   "outputs": [],
   "source": [
    "hist_data = main[[\"date\", \"pef_over_pred_100\"]]\n",
    "hist_data = hist_data.dropna(axis=0, how=\"any\")\n",
    "# Format \"date\"\n",
    "hist_data['date'] = hist_data['date'].astype('datetime64[ns]')\n",
    "# Create before/after treatment distinction\n",
    "hist_data[\"category\"] = np.where(hist_data[\"date\"] >= treatment_date, \"after\", \"before\")\n",
    "hist_data = hist_data[[\"category\", \"pef_over_pred_100\"]]"
   ]
  },
  {
   "cell_type": "code",
   "execution_count": 69,
   "metadata": {},
   "outputs": [],
   "source": [
    "# Divide pef data into before and after treatment \n",
    "hist_before = hist_data[hist_data[\"category\"] == \"before\"]\n",
    "hist_after = hist_data[hist_data[\"category\"] == \"after\"]\n",
    "# Export\n",
    "hist_before.to_json(\"clean/hist_before.json\", orient=\"records\")\n",
    "hist_after.to_json(\"clean/hist_after.json\", orient=\"records\")"
   ]
  }
 ],
 "metadata": {
  "kernelspec": {
   "display_name": "Python 3.9.13 64-bit",
   "language": "python",
   "name": "python3"
  },
  "language_info": {
   "codemirror_mode": {
    "name": "ipython",
    "version": 3
   },
   "file_extension": ".py",
   "mimetype": "text/x-python",
   "name": "python",
   "nbconvert_exporter": "python",
   "pygments_lexer": "ipython3",
   "version": "3.9.13"
  },
  "orig_nbformat": 4,
  "vscode": {
   "interpreter": {
    "hash": "b0fa6594d8f4cbf19f97940f81e996739fb7646882a419484c72d19e05852a7e"
   }
  }
 },
 "nbformat": 4,
 "nbformat_minor": 2
}
